{
 "cells": [
  {
   "cell_type": "code",
   "execution_count": 1,
   "metadata": {},
   "outputs": [],
   "source": [
    "import pandas as pd\n",
    "import altair as alt\n",
    "\n",
    "xls = pd.ExcelFile(\n",
    "    \"../PART I/data/data_ord2.xlsx\"\n",
    ")\n",
    "\n",
    "win_rates = pd.read_excel(xls, 'card win rate')"
   ]
  },
  {
   "cell_type": "code",
   "execution_count": 2,
   "metadata": {},
   "outputs": [],
   "source": [
    "pink=\"#f7b2d6\"\n",
    "dark_grey=\"#464c4d\"\n",
    "green=\"#b9d98f\"\n",
    "peach=\"#eef2d8\"\n",
    "dark_pink=\"#eb4da6\"\n",
    "med_pink=\"#f277b0\""
   ]
  },
  {
   "cell_type": "code",
   "execution_count": 3,
   "metadata": {},
   "outputs": [],
   "source": [
    "brush = alt.selection_interval(encodings=['x'])\n",
    "opacity = alt.condition(brush, alt.value(1), alt.value(0.1))\n",
    "\n",
    "overview = alt.Chart(win_rates).mark_bar().encode(\n",
    "    alt.X('win%, rounded',\n",
    "      axis=alt.Axis(title=\"Win% for any card\", labelAngle=0) \n",
    "    ),\n",
    "    alt.Y('number of win%', title=\"Number of Cards with win%\"), \n",
    "    opacity=opacity\n",
    ").add_selection(\n",
    "    brush    \n",
    ").properties(\n",
    "    title=\"Number of win%\",\n",
    "    width=800, \n",
    "    height=50  \n",
    ")\n",
    "\n"
   ]
  },
  {
   "cell_type": "code",
   "execution_count": 4,
   "metadata": {},
   "outputs": [],
   "source": [
    "chart = alt.Chart(win_rates)\n",
    "\n",
    "\n",
    "detail = chart.mark_bar().encode(\n",
    "    alt.X( \"card ID:Q\",\n",
    "        title=\"cardID\", axis=alt.Axis() ),\n",
    "    alt.Y(\"uses:Q\",\n",
    "        title=\"Number of Card uses\", axis=alt.Axis()),\n",
    "    opacity=opacity,\n",
    "    tooltip=[ \"cardName\", \"uses\", \"win%, rounded\"]\n",
    ").properties(\n",
    "    title=\"Card Uses\",\n",
    "    width=800\n",
    ")\n",
    "\n",
    "# alt.vconcat(overview, detail\n",
    "# ).configure(\n",
    "#     background=peach,\n",
    "#     font=\"DINCondensed-Bold\"\n",
    "# ).configure_view (\n",
    "#     strokeWidth = 0,\n",
    "#     stroke='#ccc8a1',\n",
    "#     fill='#f0ecce',\n",
    "#     cornerRadius=10,\n",
    "    \n",
    "# ).configure_bar(\n",
    "#     binSpacing=5.5,\n",
    "#     cornerRadius=20,\n",
    "#     cursor=\"help\",\n",
    "#     width=5,\n",
    "#     color=green\n",
    "# ).configure_axis(\n",
    "#     labelFontSize=15,\n",
    "#     titleFontSize=20,\n",
    "#     titleColor=med_pink,\n",
    "#     tickColor=pink,\n",
    "#     domainColor=pink,\n",
    "#     labelColor=pink,\n",
    "#     grid=False,\n",
    "# ).configure_title(\n",
    "#     fontSize=30,\n",
    "#     color=dark_pink \n",
    "# )\n"
   ]
  },
  {
   "cell_type": "code",
   "execution_count": 5,
   "metadata": {},
   "outputs": [],
   "source": [
    "background2=\"#c7c5b5\"\n",
    "highlight=\"#bf9b71\"\n",
    "title=\"#915f24\"\n",
    "bold_title=\"#693b04\"\n",
    "thin_title=\"#ad7a3d\"\n",
    "\n",
    "dominant_bar=\"#4F736D\"\n",
    "light_bar=\"#3B9686\""
   ]
  },
  {
   "cell_type": "code",
   "execution_count": 6,
   "metadata": {},
   "outputs": [
    {
     "ename": "SchemaValidationError",
     "evalue": "Invalid specification\n\n        altair.vegalite.v4.schema.core.Axis, validating 'additionalProperties'\n\n        Additional properties are not allowed ('laeblColor' was unexpected)\n        ",
     "output_type": "error",
     "traceback": [
      "\u001b[0;31m---------------------------------------------------------------------------\u001b[0m",
      "\u001b[0;31mSchemaValidationError\u001b[0m                     Traceback (most recent call last)",
      "\u001b[0;32m/var/folders/jz/skkbp9s113zc0j5qzqjqv7240000gn/T/ipykernel_6023/672007347.py\u001b[0m in \u001b[0;36m<module>\u001b[0;34m\u001b[0m\n\u001b[1;32m      4\u001b[0m \u001b[0;34m\u001b[0m\u001b[0m\n\u001b[1;32m      5\u001b[0m area = base.mark_bar(width=30, color=light_bar, opacity=0.7).encode(\n\u001b[0;32m----> 6\u001b[0;31m     alt.Y('average(uses)', title=\"Number of Uses\", axis=alt.Axis(\n\u001b[0m\u001b[1;32m      7\u001b[0m         \u001b[0mtitleColor\u001b[0m\u001b[0;34m=\u001b[0m\u001b[0mlight_bar\u001b[0m\u001b[0;34m,\u001b[0m\u001b[0;34m\u001b[0m\u001b[0;34m\u001b[0m\u001b[0m\n\u001b[1;32m      8\u001b[0m         \u001b[0mlaeblColor\u001b[0m\u001b[0;34m=\u001b[0m\u001b[0mlight_bar\u001b[0m\u001b[0;34m\u001b[0m\u001b[0;34m\u001b[0m\u001b[0m\n",
      "\u001b[0;32m~/opt/miniconda3/envs/CSC630/lib/python3.9/site-packages/altair/vegalite/v4/schema/core.py\u001b[0m in \u001b[0;36m__init__\u001b[0;34m(self, aria, bandPosition, description, domain, domainCap, domainColor, domainDash, domainDashOffset, domainOpacity, domainWidth, format, formatType, grid, gridCap, gridColor, gridDash, gridDashOffset, gridOpacity, gridWidth, labelAlign, labelAngle, labelBaseline, labelBound, labelColor, labelExpr, labelFlush, labelFlushOffset, labelFont, labelFontSize, labelFontStyle, labelFontWeight, labelLimit, labelLineHeight, labelOffset, labelOpacity, labelOverlap, labelPadding, labelSeparation, labels, maxExtent, minExtent, offset, orient, position, style, tickBand, tickCap, tickColor, tickCount, tickDash, tickDashOffset, tickExtra, tickMinStep, tickOffset, tickOpacity, tickRound, tickSize, tickWidth, ticks, title, titleAlign, titleAnchor, titleAngle, titleBaseline, titleColor, titleFont, titleFontSize, titleFontStyle, titleFontWeight, titleLimit, titleLineHeight, titleOpacity, titlePadding, titleX, titleY, translate, values, zindex, **kwds)\u001b[0m\n\u001b[1;32m    823\u001b[0m                  \u001b[0mtitleOpacity\u001b[0m\u001b[0;34m=\u001b[0m\u001b[0mUndefined\u001b[0m\u001b[0;34m,\u001b[0m \u001b[0mtitlePadding\u001b[0m\u001b[0;34m=\u001b[0m\u001b[0mUndefined\u001b[0m\u001b[0;34m,\u001b[0m \u001b[0mtitleX\u001b[0m\u001b[0;34m=\u001b[0m\u001b[0mUndefined\u001b[0m\u001b[0;34m,\u001b[0m \u001b[0mtitleY\u001b[0m\u001b[0;34m=\u001b[0m\u001b[0mUndefined\u001b[0m\u001b[0;34m,\u001b[0m\u001b[0;34m\u001b[0m\u001b[0;34m\u001b[0m\u001b[0m\n\u001b[1;32m    824\u001b[0m                  translate=Undefined, values=Undefined, zindex=Undefined, **kwds):\n\u001b[0;32m--> 825\u001b[0;31m         super(Axis, self).__init__(aria=aria, bandPosition=bandPosition, description=description,\n\u001b[0m\u001b[1;32m    826\u001b[0m                                    \u001b[0mdomain\u001b[0m\u001b[0;34m=\u001b[0m\u001b[0mdomain\u001b[0m\u001b[0;34m,\u001b[0m \u001b[0mdomainCap\u001b[0m\u001b[0;34m=\u001b[0m\u001b[0mdomainCap\u001b[0m\u001b[0;34m,\u001b[0m \u001b[0mdomainColor\u001b[0m\u001b[0;34m=\u001b[0m\u001b[0mdomainColor\u001b[0m\u001b[0;34m,\u001b[0m\u001b[0;34m\u001b[0m\u001b[0;34m\u001b[0m\u001b[0m\n\u001b[1;32m    827\u001b[0m                                    \u001b[0mdomainDash\u001b[0m\u001b[0;34m=\u001b[0m\u001b[0mdomainDash\u001b[0m\u001b[0;34m,\u001b[0m \u001b[0mdomainDashOffset\u001b[0m\u001b[0;34m=\u001b[0m\u001b[0mdomainDashOffset\u001b[0m\u001b[0;34m,\u001b[0m\u001b[0;34m\u001b[0m\u001b[0;34m\u001b[0m\u001b[0m\n",
      "\u001b[0;32m~/opt/miniconda3/envs/CSC630/lib/python3.9/site-packages/altair/utils/schemapi.py\u001b[0m in \u001b[0;36m__init__\u001b[0;34m(self, *args, **kwds)\u001b[0m\n\u001b[1;32m    175\u001b[0m \u001b[0;34m\u001b[0m\u001b[0m\n\u001b[1;32m    176\u001b[0m         \u001b[0;32mif\u001b[0m \u001b[0mDEBUG_MODE\u001b[0m \u001b[0;32mand\u001b[0m \u001b[0mself\u001b[0m\u001b[0;34m.\u001b[0m\u001b[0m_class_is_valid_at_instantiation\u001b[0m\u001b[0;34m:\u001b[0m\u001b[0;34m\u001b[0m\u001b[0;34m\u001b[0m\u001b[0m\n\u001b[0;32m--> 177\u001b[0;31m             \u001b[0mself\u001b[0m\u001b[0;34m.\u001b[0m\u001b[0mto_dict\u001b[0m\u001b[0;34m(\u001b[0m\u001b[0mvalidate\u001b[0m\u001b[0;34m=\u001b[0m\u001b[0;32mTrue\u001b[0m\u001b[0;34m)\u001b[0m\u001b[0;34m\u001b[0m\u001b[0;34m\u001b[0m\u001b[0m\n\u001b[0m\u001b[1;32m    178\u001b[0m \u001b[0;34m\u001b[0m\u001b[0m\n\u001b[1;32m    179\u001b[0m     \u001b[0;32mdef\u001b[0m \u001b[0mcopy\u001b[0m\u001b[0;34m(\u001b[0m\u001b[0mself\u001b[0m\u001b[0;34m,\u001b[0m \u001b[0mdeep\u001b[0m\u001b[0;34m=\u001b[0m\u001b[0;32mTrue\u001b[0m\u001b[0;34m,\u001b[0m \u001b[0mignore\u001b[0m\u001b[0;34m=\u001b[0m\u001b[0;34m(\u001b[0m\u001b[0;34m)\u001b[0m\u001b[0;34m)\u001b[0m\u001b[0;34m:\u001b[0m\u001b[0;34m\u001b[0m\u001b[0;34m\u001b[0m\u001b[0m\n",
      "\u001b[0;32m~/opt/miniconda3/envs/CSC630/lib/python3.9/site-packages/altair/utils/schemapi.py\u001b[0m in \u001b[0;36mto_dict\u001b[0;34m(self, validate, ignore, context)\u001b[0m\n\u001b[1;32m    338\u001b[0m                 \u001b[0mself\u001b[0m\u001b[0;34m.\u001b[0m\u001b[0mvalidate\u001b[0m\u001b[0;34m(\u001b[0m\u001b[0mresult\u001b[0m\u001b[0;34m)\u001b[0m\u001b[0;34m\u001b[0m\u001b[0;34m\u001b[0m\u001b[0m\n\u001b[1;32m    339\u001b[0m             \u001b[0;32mexcept\u001b[0m \u001b[0mjsonschema\u001b[0m\u001b[0;34m.\u001b[0m\u001b[0mValidationError\u001b[0m \u001b[0;32mas\u001b[0m \u001b[0merr\u001b[0m\u001b[0;34m:\u001b[0m\u001b[0;34m\u001b[0m\u001b[0;34m\u001b[0m\u001b[0m\n\u001b[0;32m--> 340\u001b[0;31m                 \u001b[0;32mraise\u001b[0m \u001b[0mSchemaValidationError\u001b[0m\u001b[0;34m(\u001b[0m\u001b[0mself\u001b[0m\u001b[0;34m,\u001b[0m \u001b[0merr\u001b[0m\u001b[0;34m)\u001b[0m\u001b[0;34m\u001b[0m\u001b[0;34m\u001b[0m\u001b[0m\n\u001b[0m\u001b[1;32m    341\u001b[0m         \u001b[0;32mreturn\u001b[0m \u001b[0mresult\u001b[0m\u001b[0;34m\u001b[0m\u001b[0;34m\u001b[0m\u001b[0m\n\u001b[1;32m    342\u001b[0m \u001b[0;34m\u001b[0m\u001b[0m\n",
      "\u001b[0;31mSchemaValidationError\u001b[0m: Invalid specification\n\n        altair.vegalite.v4.schema.core.Axis, validating 'additionalProperties'\n\n        Additional properties are not allowed ('laeblColor' was unexpected)\n        "
     ]
    }
   ],
   "source": [
    "base = alt.Chart(win_rates).encode(\n",
    "    alt.X('elixer:Q', title=\"Card Elixer\")\n",
    ")\n",
    "\n",
    "area = base.mark_bar(width=30, color=light_bar, opacity=0.7).encode(\n",
    "    alt.Y('average(uses)', title=\"Number of Uses\", axis=alt.Axis(\n",
    "        titleColor=light_bar,\n",
    "        laeblColor=light_bar\n",
    "    ))\n",
    "    \n",
    ")\n",
    "\n",
    "line = base.mark_bar(width=5,color=dominant_bar).encode(\n",
    "    alt.Y('average(win%, rounded)', title=\"win %\")\n",
    ").properties(\n",
    "    title=\"uses and win%, as a function of card elixer\"\n",
    ")\n",
    "\n",
    "alt.layer(area, line).resolve_scale(\n",
    "    y = 'independent'\n",
    ").configure(\n",
    "    background=background2,\n",
    "    font=\"DINCondensed-Bold\"\n",
    ").configure_view(\n",
    "    fill=highlight,\n",
    "    fillOpacity=0.5,\n",
    "    strokeWidth=0\n",
    ").configure_title(\n",
    "    fontSize=30,\n",
    "    color=dominant_bar\n",
    ").configure_axis(\n",
    "    labelFontSize=13,\n",
    "    titleFontSize=20,\n",
    "    # labelColor=thin_title,\n",
    "    titleColor=title,\n",
    "    domainColor=thin_title,\n",
    "    tickColor=thin_title,\n",
    "    gridColor=thin_title\n",
    ").configure_bar(\n",
    "    cornerRadius=8\n",
    ")"
   ]
  }
 ],
 "metadata": {
  "interpreter": {
   "hash": "e9f6727800535e87952a05ece25243350d7781250ff4d7058c2f3577918c438f"
  },
  "kernelspec": {
   "display_name": "Python 3.9.7 64-bit ('CSC630': conda)",
   "language": "python",
   "name": "python3"
  },
  "language_info": {
   "codemirror_mode": {
    "name": "ipython",
    "version": 3
   },
   "file_extension": ".py",
   "mimetype": "text/x-python",
   "name": "python",
   "nbconvert_exporter": "python",
   "pygments_lexer": "ipython3",
   "version": "3.9.7"
  },
  "orig_nbformat": 4
 },
 "nbformat": 4,
 "nbformat_minor": 2
}
